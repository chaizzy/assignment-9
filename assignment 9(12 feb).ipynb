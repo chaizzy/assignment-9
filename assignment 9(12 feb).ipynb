{
 "cells": [
  {
   "cell_type": "code",
   "execution_count": 1,
   "id": "3195e493-396c-4b54-9988-a41e78a456e4",
   "metadata": {},
   "outputs": [],
   "source": [
    "# ANS 1:\n",
    "# exception in python  ,is an event which interrupts the normal flow of code\n",
    "# exception represents an error\n",
    "# syntax error are those errors which are caused by user , \n",
    "# examples spelling  errors , sequence of characters \n",
    "\n",
    "# exception\n",
    "# exceptions are anonymous errors which cannot excute by  the compiler"
   ]
  },
  {
   "cell_type": "code",
   "execution_count": 2,
   "id": "7932345e-398e-445e-8c33-81564325c269",
   "metadata": {},
   "outputs": [
    {
     "ename": "ZeroDivisionError",
     "evalue": "division by zero",
     "output_type": "error",
     "traceback": [
      "\u001b[0;31m---------------------------------------------------------------------------\u001b[0m",
      "\u001b[0;31mZeroDivisionError\u001b[0m                         Traceback (most recent call last)",
      "Cell \u001b[0;32mIn[2], line 3\u001b[0m\n\u001b[1;32m      1\u001b[0m \u001b[38;5;66;03m# ANS 2:\u001b[39;00m\n\u001b[1;32m      2\u001b[0m a \u001b[38;5;241m=\u001b[39m \u001b[38;5;241m10\u001b[39m\n\u001b[0;32m----> 3\u001b[0m \u001b[43ma\u001b[49m\u001b[38;5;241;43m/\u001b[39;49m\u001b[38;5;241;43m0\u001b[39;49m\n\u001b[1;32m      4\u001b[0m \u001b[38;5;28mprint\u001b[39m(\u001b[38;5;124m\"\u001b[39m\u001b[38;5;124m this  is error\u001b[39m\u001b[38;5;124m\"\u001b[39m)\n",
      "\u001b[0;31mZeroDivisionError\u001b[0m: division by zero"
     ]
    }
   ],
   "source": [
    "# ANS 2:\n",
    "a = 10\n",
    "a/0\n",
    "print(\" this  is error\")"
   ]
  },
  {
   "cell_type": "code",
   "execution_count": 3,
   "id": "8776363e-4f64-40cc-bed4-01af9955639e",
   "metadata": {},
   "outputs": [],
   "source": [
    "# it stops the flow of program"
   ]
  },
  {
   "cell_type": "code",
   "execution_count": 4,
   "id": "711a2ca1-bfd9-464d-a26f-60798b2d5c6b",
   "metadata": {},
   "outputs": [
    {
     "name": "stdout",
     "output_type": "stream",
     "text": [
      "division by zero\n"
     ]
    }
   ],
   "source": [
    "# ANS 3 :\n",
    "# try statement is used to catch exception \n",
    "# except and else  statement is used to handle exception\n",
    "try:\n",
    "    10/0\n",
    "except ZeroDivisionError as e:\n",
    "    print(e)"
   ]
  },
  {
   "cell_type": "code",
   "execution_count": 5,
   "id": "ac1efa39-dfc7-45b0-918e-5f2e07e440c2",
   "metadata": {},
   "outputs": [
    {
     "name": "stdout",
     "output_type": "stream",
     "text": [
      "this is will  excute\n"
     ]
    }
   ],
   "source": [
    "# ANS 4:\n",
    "# try and else:\n",
    "try :\n",
    "    f= open(\"file.txt\" , \"w\")\n",
    "    f.write(\" chaitanya\")\n",
    "except Exception as e:\n",
    "    print(\"file not found error\")\n",
    "else:\n",
    "    f.close()\n",
    "    print(\"this is will  excute\")"
   ]
  },
  {
   "cell_type": "code",
   "execution_count": 11,
   "id": "a72bb9b2-8263-48c1-b6e4-86a0d62555e4",
   "metadata": {},
   "outputs": [
    {
     "name": "stdout",
     "output_type": "stream",
     "text": [
      "this is going to excute any how\n"
     ]
    },
    {
     "ename": "UnsupportedOperation",
     "evalue": "not writable",
     "output_type": "error",
     "traceback": [
      "\u001b[0;31m---------------------------------------------------------------------------\u001b[0m",
      "\u001b[0;31mUnsupportedOperation\u001b[0m                      Traceback (most recent call last)",
      "Cell \u001b[0;32mIn[11], line 4\u001b[0m\n\u001b[1;32m      2\u001b[0m \u001b[38;5;28;01mtry\u001b[39;00m :\n\u001b[1;32m      3\u001b[0m     f\u001b[38;5;241m=\u001b[39m \u001b[38;5;28mopen\u001b[39m(\u001b[38;5;124m\"\u001b[39m\u001b[38;5;124mfile.txt\u001b[39m\u001b[38;5;124m\"\u001b[39m , \u001b[38;5;124m\"\u001b[39m\u001b[38;5;124mr\u001b[39m\u001b[38;5;124m\"\u001b[39m)\n\u001b[0;32m----> 4\u001b[0m     \u001b[43mf\u001b[49m\u001b[38;5;241;43m.\u001b[39;49m\u001b[43mwrite\u001b[49m\u001b[43m(\u001b[49m\u001b[38;5;124;43m\"\u001b[39;49m\u001b[38;5;124;43m chaitanya\u001b[39;49m\u001b[38;5;124;43m\"\u001b[39;49m\u001b[43m)\u001b[49m\n\u001b[1;32m      5\u001b[0m \u001b[38;5;28;01mfinally\u001b[39;00m:\n\u001b[1;32m      6\u001b[0m     \u001b[38;5;28mprint\u001b[39m(\u001b[38;5;124m\"\u001b[39m\u001b[38;5;124mthis is going to excute any how\u001b[39m\u001b[38;5;124m\"\u001b[39m)\n",
      "\u001b[0;31mUnsupportedOperation\u001b[0m: not writable"
     ]
    }
   ],
   "source": [
    "# finally\n",
    "try :\n",
    "    f= open(\"file.txt\" , \"r\")\n",
    "    f.write(\" chaitanya\")\n",
    "finally:\n",
    "    print(\"this is going to excute any how\")\n",
    "\n"
   ]
  },
  {
   "cell_type": "code",
   "execution_count": 12,
   "id": "cf4b4f9e-d386-44c0-96d7-c86aa7e95112",
   "metadata": {},
   "outputs": [
    {
     "name": "stdin",
     "output_type": "stream",
     "text": [
      "enter the age -53\n"
     ]
    },
    {
     "name": "stdout",
     "output_type": "stream",
     "text": [
      "entered age is negative\n"
     ]
    }
   ],
   "source": [
    "# raise \n",
    "class validage(Exception):\n",
    "    def __init__(self,msg):\n",
    "        self.msg = msg\n",
    "def validateage(age1):\n",
    "    if age1 < 0:\n",
    "        raise validage(\"entered age is negative\")\n",
    "    elif age1 > 200:\n",
    "        raise validage(\"entered age is very very is high\")\n",
    "    else:\n",
    "        print(\"age is valid\")\n",
    "\n",
    "try :\n",
    "    age1 = int(input(\"enter the age\"))\n",
    "    validateage(age1)\n",
    "except validage as e:\n",
    "    print(e)        "
   ]
  },
  {
   "cell_type": "code",
   "execution_count": null,
   "id": "d1b5f620-3168-452b-ac9d-493a13d25cff",
   "metadata": {},
   "outputs": [],
   "source": [
    "# ANS 5:\n",
    "# custom exception is our own user's exception \n",
    "# so , in this  program  we give age as input , but age cannot be negative\n",
    "class validage(Exception):\n",
    "    def __init__(self,msg):\n",
    "        self.msg = msg\n",
    "def validateage(age1):\n",
    "    if age1 < 0:\n",
    "        raise validage(\"entered age is negative\")\n",
    "    elif age1 > 200:\n",
    "        raise validage(\"entered age is very very is high\")\n",
    "    else:\n",
    "        print(\"age is valid\")\n",
    "\n",
    "try :\n",
    "    age1 = int(input(\"enter the age\"))\n",
    "    validateage(age1)\n",
    "except validage as e:\n",
    "    print(e)        "
   ]
  },
  {
   "cell_type": "code",
   "execution_count": 15,
   "id": "6d50b78f-48e8-45a6-858d-9b7a47ff0b2e",
   "metadata": {},
   "outputs": [
    {
     "name": "stdin",
     "output_type": "stream",
     "text": [
      "enter the age in cms -234\n"
     ]
    },
    {
     "name": "stdout",
     "output_type": "stream",
     "text": [
      "entered height is negative\n"
     ]
    }
   ],
   "source": [
    "# ANS 6:\n",
    "class valid_height(Exception):\n",
    "    def __init__(self,msg):\n",
    "        self.msg = msg\n",
    "def validate_height(height):\n",
    "    if age1 < 0:\n",
    "        raise valid_height(\"entered height is negative\")\n",
    "    elif age1 > 200:\n",
    "        raise valid_height(\"entered height is very very is high\")\n",
    "    else:\n",
    "        print(\"height is valid\")\n",
    "\n",
    "try :\n",
    "    height = int(input(\"enter the age in cms\"))\n",
    "    validate_height(height)\n",
    "except valid_height as e:\n",
    "    print(e)     "
   ]
  },
  {
   "cell_type": "code",
   "execution_count": null,
   "id": "7459d4a8-a18d-4002-911c-0f5abae8ce0a",
   "metadata": {},
   "outputs": [],
   "source": []
  }
 ],
 "metadata": {
  "kernelspec": {
   "display_name": "Python 3 (ipykernel)",
   "language": "python",
   "name": "python3"
  },
  "language_info": {
   "codemirror_mode": {
    "name": "ipython",
    "version": 3
   },
   "file_extension": ".py",
   "mimetype": "text/x-python",
   "name": "python",
   "nbconvert_exporter": "python",
   "pygments_lexer": "ipython3",
   "version": "3.10.8"
  }
 },
 "nbformat": 4,
 "nbformat_minor": 5
}
